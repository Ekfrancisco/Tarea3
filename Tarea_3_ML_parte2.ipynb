{
 "cells": [
  {
   "cell_type": "markdown",
   "metadata": {},
   "source": [
    "<img src=\"http://www.exalumnos.usm.cl/wp-content/uploads/2015/06/Isotipo-Negro.gif\" title=\"Title text\" width=\"20%\" height=\"20%\" />\n",
    "\n",
    "\n",
    "<hr style=\"height:2px;border:none\"/>\n",
    "<h1 align='center'> INF-393 Máquinas de Aprendizaje II-2019 </h1>\n",
    "\n",
    "<H3 align='center'> Tarea 3 - Ensamblados y modelos avanzados </H3>\n",
    "<hr style=\"height:2px;border:none\"/>\n",
    "\n",
    "<H3 align='center'> Integrantes </H3>\n",
    "<H5 align='center'> Francisco Farías 201573601-4</H5>\n",
    "<H5 align='center'> Francisco Solar 201573524-7</H5>\n",
    "<hr style=\"height:2px;border:none\"/>\n",
    "\n",
    "**Temas**  \n",
    "* Técnicas de ensamblado: *bagging*, *boosting* y *random forest*.\n",
    "* Ventajas de técnicas de ensamblados\n",
    "* Problemas desbalanceados\n",
    " \n",
    "\n",
    "**Formalidades**  \n",
    "* Equipos de trabajo de: 2 personas (*cada uno debe estar en condiciones de realizar una presentación y discutir sobre cada punto del trabajo realizado*)\n",
    "* Se debe preparar una presentación de 20 minutos. Presentador será elegido aleatoriamente.\n",
    "* Se debe preparar un (breve) Jupyter/IPython notebook que explique la actividad realizada y las conclusiones del trabajo\n",
    "* Fecha de entrega y cierre competencia: 17 de Enero\n",
    "* Formato de entrega: envı́o de link Github al correo electrónico del ayudante (*<francisco.mena.13@sansano.usm.cl>*) , incluyendo al profesor en copia (*<jnancu@inf.utfsm.cl>*). Por favor especificar el siguiente asunto: [Tarea3-INF393-II-2019]\n",
    "\n",
    "<hr style=\"height:2px;border:none\"/>\n",
    "\n",
    "La tarea se divide en secciones:\n",
    "\n",
    "[1.](#primero) Ensamblados para regresión  \n",
    "[2.](#segundo) Detección de acoso en *Twitter*  "
   ]
  },
  {
   "cell_type": "markdown",
   "metadata": {},
   "source": [
    "<a id=\"segundo\"></a>\n",
    "## 2. Detección de acoso en *Twitter*\n",
    "---\n",
    "En las redes sociales muchas veces se encuentra con un cierto comportamiento indeseable para los usuarios, tal como racismo, misógeno, grupos de odio o *trolls*. El poder detectar de manera automática ciertos patrones en el comportamiento para tomar una acción debe ser crucial para reducir el tiempo y esfuerzo humano. En esta actividad se trabajará sobre *tweets* la red social de *twitter* para detectar comportamiento *online* de acoso (*harassment*), que por lo general, incluye *flaming* como lenguaje abusivo o insultos, *doxing* como mostrar la información personal de una mujer, por ejemplo el domicilio o número de teléfono, la suplantación o la vergüenza pública por destruir la reputación de las personas.\n",
    "\n",
    "<img src=\"https://kidshelpline.com.au/sites/default/files/bdl_image/header-T-OH.png\" title=\"Title text\" width=\"45%\"  />\n",
    "\n",
    "En algunos problemas como este, el comportamiento a detectar puede ser asociado a una anomalía (*outlier*) del comportamiento normal de los usuarios en las redes sociales. Esto es una de las causas de la dificultad del problema, puesto que es **altamente desbalanceado**, donde aproximadamente un 10% de los *tweets* corresponden a acoso (*harassment*).\n",
    "\n",
    "Los datos trabajados corresponderan a *tweets* etiquetados como *harassment* (con valor 1) o no (con valor 0) -- la tarea a detectar--. Además si desea utilizar, se incluye la información del tipo de *harassment* en el conjunto de entrenamiento como atributos extras. El conjunto de pruebas solo contiene los *tweets* a ser etiquetados.\n",
    "\n",
    "---\n",
    "### Importante\n",
    "* Esta pregunta será evaluada **sólo** por los resultados (*submission*) obtenidos en el desafío presentado en __[Kaggle](https://www.kaggle.com/c/t1-ml/)__ a través del siguiente __[link](https://www.kaggle.com/t/91f8c0c746f945cfa510b88469df4d67)__. Las notas serán entregadas a través de la siguiente fórmula:  \n",
    "$$ Nota(i) = 100\\cdot max\\left(0.55; s^{(1-i)} \\right), \\ \\ con \\ \\ i \\in \\{1,\\ \\ldots, N\\}$$\n",
    "Con la escala de decaimiento es $ s = 1.05$ y con $i$ su lugar en el *ranking*.\n",
    "\n",
    "* La métrica de evaluación será el *f1 score* [[3]](#refs) sobre la clase positiva (*harassment*), así evaluar la calidad del modelo sobre la clase minoritaria, lo cual también debiera reflejar el desempeño de la clase negativa (al ser el complemento).\n"
   ]
  },
  {
   "cell_type": "code",
   "execution_count": 68,
   "metadata": {
    "scrolled": true
   },
   "outputs": [
    {
     "data": {
      "text/html": [
       "<div>\n",
       "<style scoped>\n",
       "    .dataframe tbody tr th:only-of-type {\n",
       "        vertical-align: middle;\n",
       "    }\n",
       "\n",
       "    .dataframe tbody tr th {\n",
       "        vertical-align: top;\n",
       "    }\n",
       "\n",
       "    .dataframe thead th {\n",
       "        text-align: right;\n",
       "    }\n",
       "</style>\n",
       "<table border=\"1\" class=\"dataframe\">\n",
       "  <thead>\n",
       "    <tr style=\"text-align: right;\">\n",
       "      <th></th>\n",
       "      <th>id</th>\n",
       "      <th>tweet_content</th>\n",
       "    </tr>\n",
       "  </thead>\n",
       "  <tbody>\n",
       "    <tr>\n",
       "      <th>0</th>\n",
       "      <td>1</td>\n",
       "      <td>is it wrong what about mezcal</td>\n",
       "    </tr>\n",
       "    <tr>\n",
       "      <th>1</th>\n",
       "      <td>2</td>\n",
       "      <td>is mkr on texts the sound you make with incaka...</td>\n",
       "    </tr>\n",
       "    <tr>\n",
       "      <th>2</th>\n",
       "      <td>3</td>\n",
       "      <td>is on now go girl bre</td>\n",
       "    </tr>\n",
       "    <tr>\n",
       "      <th>3</th>\n",
       "      <td>4</td>\n",
       "      <td>is only beaten by on anzac day eve k share which</td>\n",
       "    </tr>\n",
       "    <tr>\n",
       "      <th>4</th>\n",
       "      <td>5</td>\n",
       "      <td>is that a bowl cut on that chick</td>\n",
       "    </tr>\n",
       "  </tbody>\n",
       "</table>\n",
       "</div>"
      ],
      "text/plain": [
       "   id                                      tweet_content\n",
       "0   1                      is it wrong what about mezcal\n",
       "1   2  is mkr on texts the sound you make with incaka...\n",
       "2   3                              is on now go girl bre\n",
       "3   4   is only beaten by on anzac day eve k share which\n",
       "4   5                   is that a bowl cut on that chick"
      ]
     },
     "execution_count": 68,
     "metadata": {},
     "output_type": "execute_result"
    }
   ],
   "source": [
    "from  sklearn.metrics import f1_score\n",
    "\n",
    "import pandas as pd\n",
    "df= pd.read_csv(\"Train_data.csv\")\n",
    "df_test = pd.read_csv(\"Test_input.csv\")\n",
    "##f1_score(y_test, y_pred, average='binary')\n",
    "df.head()\n",
    "df_test.head()"
   ]
  },
  {
   "cell_type": "code",
   "execution_count": 69,
   "metadata": {},
   "outputs": [
    {
     "name": "stdout",
     "output_type": "stream",
     "text": [
      "Harrasment=0 : 5154\n",
      "Harassment=1 : 549\n"
     ]
    }
   ],
   "source": [
    "print(\"Harrasment=0 :\", df[df.harassment == 0].shape[0]) \n",
    "print(\"Harassment=1 :\", df[df.harassment == 1].shape[0])"
   ]
  },
  {
   "cell_type": "markdown",
   "metadata": {},
   "source": [
    "Se comprueba que el dataset esta altamente desbalanceado como se muestra en el enunciado, teniendo aproximadamente el 10% de datos correspondiente a una clase, en este caso a Harrasment=1"
   ]
  },
  {
   "cell_type": "code",
   "execution_count": 70,
   "metadata": {},
   "outputs": [
    {
     "name": "stdout",
     "output_type": "stream",
     "text": [
      "1785\n"
     ]
    }
   ],
   "source": [
    "from sklearn.model_selection import train_test_split\n",
    "y = df.harassment\n",
    "x = df.tweet_content\n",
    "x_test = df_test.tweet_content\n",
    "print (len(x_test))\n",
    "x_train, x_val, y_train, y_val = train_test_split(x, y, test_size=0.3, random_state=0)\n"
   ]
  },
  {
   "cell_type": "code",
   "execution_count": 71,
   "metadata": {},
   "outputs": [],
   "source": [
    "from sklearn.feature_extraction.text import CountVectorizer\n",
    "\n",
    "texts_train = [(text) for text in x_train]\n",
    "texts_val = [(text) for text in x_val]\n",
    "texts_test = [(text) for text in x_test]\n",
    "vectorizer = CountVectorizer(ngram_range=(1, 1), binary=False) #TF representation\n",
    "#train\n",
    "vectorizer.fit(texts_train)\n",
    "features_train = vectorizer.transform(texts_train)\n",
    "#val\n",
    "features_val = vectorizer.transform(texts_val)\n",
    "#test\n",
    "features_test = vectorizer.transform(texts_test)"
   ]
  },
  {
   "cell_type": "code",
   "execution_count": 72,
   "metadata": {},
   "outputs": [
    {
     "name": "stderr",
     "output_type": "stream",
     "text": [
      "C:\\Users\\francisco\\Anaconda3\\lib\\site-packages\\sklearn\\ensemble\\_bagging.py:1056: UserWarning: Some inputs do not have OOB scores. This probably means too few estimators were used to compute any reliable oob estimates.\n",
      "  warn(\"Some inputs do not have OOB scores. \"\n",
      "C:\\Users\\francisco\\Anaconda3\\lib\\site-packages\\sklearn\\ensemble\\_bagging.py:1056: UserWarning: Some inputs do not have OOB scores. This probably means too few estimators were used to compute any reliable oob estimates.\n",
      "  warn(\"Some inputs do not have OOB scores. \"\n"
     ]
    },
    {
     "data": {
      "image/png": "[encoded data removed]",
      "text/plain": [
       "<Figure size 576x360 with 1 Axes>"
      ]
     },
     "metadata": {
      "needs_background": "light"
     },
     "output_type": "display_data"
    },
    {
     "name": "stdout",
     "output_type": "stream",
     "text": [
      "el mejor RMSE fue 0.25457838380902076\n"
     ]
    }
   ],
   "source": [
    "from sklearn.ensemble import BaggingRegressor\n",
    "from sklearn.metrics import accuracy_score\n",
    "from sklearn.tree import DecisionTreeRegressor as Tree\n",
    "import numpy as np\n",
    "from sklearn.ensemble import RandomForestRegressor\n",
    "\n",
    "import matplotlib.pyplot as plt\n",
    "def RMSE(ytrue,ypred):\n",
    "    return np.sqrt(np.mean(np.square(ytrue - ypred)) )\n",
    "paramet=[1,10,100,250,500]\n",
    "\n",
    "val_br_train=[]\n",
    "val_bnr_train=[]\n",
    "val_br_val=[]\n",
    "val_bnr_val=[]\n",
    "\n",
    "scores1=[]\n",
    "for i in paramet:\n",
    "    model2 = BaggingRegressor(base_estimator=Tree(ccp_alpha=0.001,max_leaf_nodes=10), n_estimators=i, n_jobs=-1,oob_score=True)\n",
    "    classes_weights = {0: 1, 1: 10} #or choose..\n",
    "    #model2.set_params(class_weight=classes_weights)\n",
    "    model2.fit(features_train,y_train)\n",
    "    y_train_hat2 = model2.predict(features_train)\n",
    "    y_val_hat2 = model2.predict(features_val)\n",
    "    score=(f1_score(y_val, y_val_hat2 >0.5, average='binary'))\n",
    "    scores1.append(score)\n",
    "    val_bnr_train.append(RMSE(y_train,y_train_hat2))\n",
    "    val_bnr_val.append(RMSE(y_val,y_val_hat2))\n",
    "    #score=accuracy_score(y_val,y_val_hat2)\n",
    "plt.figure(figsize=(8,5))\n",
    "plt.plot(val_bnr_train, '.-' ,label=\"Entrenamiento\")\n",
    "plt.plot(val_bnr_val, '.-' ,label=\"Validacion\")\n",
    "plt.legend()\n",
    "plt.show()\n",
    "print (\"el mejor RMSE fue\", min(val_bnr_val))\n"
   ]
  },
  {
   "cell_type": "code",
   "execution_count": 73,
   "metadata": {},
   "outputs": [
    {
     "name": "stdout",
     "output_type": "stream",
     "text": [
      "el mejor F1 fue  0.47386759581881527\n"
     ]
    }
   ],
   "source": [
    "print (\"el mejor F1 fue \",max(scores1))"
   ]
  },
  {
   "cell_type": "code",
   "execution_count": 74,
   "metadata": {},
   "outputs": [
    {
     "data": {
      "image/png": "[encoded data removed]",
      "text/plain": [
       "<Figure size 576x360 with 1 Axes>"
      ]
     },
     "metadata": {
      "needs_background": "light"
     },
     "output_type": "display_data"
    },
    {
     "name": "stdout",
     "output_type": "stream",
     "text": [
      "el mejor RMSE fue 0.2536877374124268\n"
     ]
    }
   ],
   "source": [
    "train=[]\n",
    "val=[]\n",
    "train2=[]\n",
    "val2=[]\n",
    "scores2=[]\n",
    "for i in range(1,50,1):\n",
    "    model2=RandomForestRegressor(n_estimators=2*i,ccp_alpha=0.001,max_leaf_nodes=10,n_jobs=-1)\n",
    "    model2.fit(features_train,y_train)\n",
    "    y_train_hat2 = model2.predict(features_train)\n",
    "    y_val_hat2 = model2.predict(features_val)\n",
    "    train_root=RMSE(y_train,y_train_hat2)\n",
    "    val_root=RMSE(y_val,y_val_hat2)\n",
    "    score=(f1_score(y_val, y_val_hat2 >0.5, average='binary'))\n",
    "    scores2.append(score)\n",
    "    train2.append(train_root)\n",
    "    val2.append(val_root)\n",
    "    \n",
    "    \n",
    "    \n",
    "plt.figure(figsize=(8,5))\n",
    "plt.plot(train2, '.-' ,label=\"Entrenamiento\")\n",
    "plt.plot(val2, '.-' ,label=\"Validacion\")\n",
    "plt.legend()\n",
    "plt.show()\n",
    "print (\"el mejor RMSE fue\", min(val2))"
   ]
  },
  {
   "cell_type": "code",
   "execution_count": 75,
   "metadata": {},
   "outputs": [
    {
     "name": "stdout",
     "output_type": "stream",
     "text": [
      "el mejor F1 fue  0.494773519163763\n"
     ]
    }
   ],
   "source": [
    "print (\"el mejor F1 fue \",max(scores2))"
   ]
  },
  {
   "cell_type": "code",
   "execution_count": 76,
   "metadata": {},
   "outputs": [
    {
     "name": "stdout",
     "output_type": "stream",
     "text": [
      "Param C =  0.0001\n",
      "Param C =  0.001\n",
      "Param C =  0.01\n",
      "Param C =  0.1\n",
      "Param C =  1.0\n",
      "Param C =  10.0\n"
     ]
    },
    {
     "name": "stderr",
     "output_type": "stream",
     "text": [
      "C:\\Users\\francisco\\Anaconda3\\lib\\site-packages\\sklearn\\linear_model\\_logistic.py:940: ConvergenceWarning: lbfgs failed to converge (status=1):\n",
      "STOP: TOTAL NO. of ITERATIONS REACHED LIMIT.\n",
      "\n",
      "Increase the number of iterations (max_iter) or scale the data as shown in:\n",
      "    https://scikit-learn.org/stable/modules/preprocessing.html\n",
      "Please also refer to the documentation for alternative solver options:\n",
      "    https://scikit-learn.org/stable/modules/linear_model.html#logistic-regression\n",
      "  extra_warning_msg=_LOGISTIC_SOLVER_CONVERGENCE_MSG)\n"
     ]
    },
    {
     "name": "stdout",
     "output_type": "stream",
     "text": [
      "Param C =  100.0\n"
     ]
    },
    {
     "name": "stderr",
     "output_type": "stream",
     "text": [
      "C:\\Users\\francisco\\Anaconda3\\lib\\site-packages\\sklearn\\linear_model\\_logistic.py:940: ConvergenceWarning: lbfgs failed to converge (status=1):\n",
      "STOP: TOTAL NO. of ITERATIONS REACHED LIMIT.\n",
      "\n",
      "Increase the number of iterations (max_iter) or scale the data as shown in:\n",
      "    https://scikit-learn.org/stable/modules/preprocessing.html\n",
      "Please also refer to the documentation for alternative solver options:\n",
      "    https://scikit-learn.org/stable/modules/linear_model.html#logistic-regression\n",
      "  extra_warning_msg=_LOGISTIC_SOLVER_CONVERGENCE_MSG)\n"
     ]
    },
    {
     "name": "stdout",
     "output_type": "stream",
     "text": [
      "Param C =  1000.0\n"
     ]
    },
    {
     "name": "stderr",
     "output_type": "stream",
     "text": [
      "C:\\Users\\francisco\\Anaconda3\\lib\\site-packages\\sklearn\\linear_model\\_logistic.py:940: ConvergenceWarning: lbfgs failed to converge (status=1):\n",
      "STOP: TOTAL NO. of ITERATIONS REACHED LIMIT.\n",
      "\n",
      "Increase the number of iterations (max_iter) or scale the data as shown in:\n",
      "    https://scikit-learn.org/stable/modules/preprocessing.html\n",
      "Please also refer to the documentation for alternative solver options:\n",
      "    https://scikit-learn.org/stable/modules/linear_model.html#logistic-regression\n",
      "  extra_warning_msg=_LOGISTIC_SOLVER_CONVERGENCE_MSG)\n"
     ]
    },
    {
     "name": "stdout",
     "output_type": "stream",
     "text": [
      "Esta es la maxima accuracy para el conjunto de validacion  0.9035651665692578\n"
     ]
    },
    {
     "data": {
      "image/png": "[encoded data removed]",
      "text/plain": [
       "<Figure size 432x288 with 1 Axes>"
      ]
     },
     "metadata": {
      "needs_background": "light"
     },
     "output_type": "display_data"
    }
   ],
   "source": [
    "from sklearn.linear_model import LogisticRegression\n",
    "\n",
    "from sklearn.linear_model import LogisticRegression\n",
    "def do_LOGIT(x,y,xv,yv, param):\n",
    "    print(\"Param C = \",param)\n",
    "    model= LogisticRegression()\n",
    "    model.set_params(C=param)\n",
    "    classes_weights = {0: 1, 1: 10} #or choose..\n",
    "    model.set_params(class_weight=classes_weights)\n",
    "    model.fit(x,y)\n",
    "    train_acc = model.score(x,y)\n",
    "    tester_acc = model.score(xv,yv)\n",
    "    return model, train_acc, tester_acc\n",
    "Cs = [10**i for i in np.arange(-4,4,dtype=float)]\n",
    "lista_train = []\n",
    "lista_tester= [] #conjunto valdacion\n",
    "scores3=[]\n",
    "mejor_score=0\n",
    "for cs in Cs:\n",
    "    model, train_acc, test_acc = do_LOGIT(features_train,y_train,features_val,y_val, param= cs)\n",
    "    lista_train.append(train_acc)\n",
    "    lista_tester.append(test_acc)\n",
    "    y_val_hat2 = model.predict(features_val)\n",
    "    score=(f1_score(y_val, y_val_hat2 >=0.5, average='binary'))\n",
    "    if  (score>mejor_score):\n",
    "        y_valor_fin = model.predict(features_test)\n",
    "    scores3.append(score)\n",
    "    \n",
    " \n",
    "    \n",
    "print (\"Esta es la maxima accuracy para el conjunto de validacion \",max(lista_tester))\n",
    "plt.scatter(Cs,lista_train, c='r', label='Train')\n",
    "plt.scatter(Cs,lista_tester, c= 'b', label='Validation')\n",
    "plt.legend()\n",
    "plt.xscale(\"log\")\n",
    "plt.xlim([10**-4,10**3])\n",
    "plt.show()"
   ]
  },
  {
   "cell_type": "code",
   "execution_count": 77,
   "metadata": {},
   "outputs": [
    {
     "name": "stdout",
     "output_type": "stream",
     "text": [
      "el mejor F1 fue  0.5276381909547739\n"
     ]
    }
   ],
   "source": [
    "print (\"el mejor F1 fue \",max(scores3))"
   ]
  },
  {
   "cell_type": "markdown",
   "metadata": {},
   "source": [
    "Como conclusion se puede ver que entre los 3 modelos usados modificados para poder darle mas peso a la clase utilizada como tag (\"Harassment\"), si bien para todos estos se consiguió una buena accuracy (0.90), el mejor valor para f1_score fue 0.556, esto se debe mas que nada a la falta de elementos de la clase a clasificar por lo que se dificulta el aprendizaje de los modelos."
   ]
  },
  {
   "cell_type": "markdown",
   "metadata": {},
   "source": [
    "\n",
    "* El archivo de *submission* debe contener las predicciones de *harassment* (0 o 1) a cada dato de pruebas, además de la columna de *id* asociado al dato, iniciando en 1. Si leyó de manera ordenada el archivo de pruebas, se puede generar de la siguiente manera:\n"
   ]
  },
  {
   "cell_type": "code",
   "execution_count": 78,
   "metadata": {},
   "outputs": [],
   "source": [
    "df_aux = pd.DataFrame()\n",
    "df_aux[\"id\"] = np.arange(1, 1+y_valor_fin.shape[0])\n",
    "df_aux[\"harassment\"] = y_valor_fin.astype('int')\n",
    "df_aux.to_csv(\"test_estimation.csv\", index=False)\n",
    "\n"
   ]
  },
  {
   "cell_type": "code",
   "execution_count": 79,
   "metadata": {},
   "outputs": [
    {
     "data": {
      "text/plain": [
       "1785"
      ]
     },
     "execution_count": 79,
     "metadata": {},
     "output_type": "execute_result"
    }
   ],
   "source": [
    "len(y_valor_fin)"
   ]
  },
  {
   "cell_type": "code",
   "execution_count": 80,
   "metadata": {},
   "outputs": [
    {
     "data": {
      "text/html": [
       "<div>\n",
       "<style scoped>\n",
       "    .dataframe tbody tr th:only-of-type {\n",
       "        vertical-align: middle;\n",
       "    }\n",
       "\n",
       "    .dataframe tbody tr th {\n",
       "        vertical-align: top;\n",
       "    }\n",
       "\n",
       "    .dataframe thead th {\n",
       "        text-align: right;\n",
       "    }\n",
       "</style>\n",
       "<table border=\"1\" class=\"dataframe\">\n",
       "  <thead>\n",
       "    <tr style=\"text-align: right;\">\n",
       "      <th></th>\n",
       "      <th>id</th>\n",
       "      <th>harassment</th>\n",
       "    </tr>\n",
       "  </thead>\n",
       "  <tbody>\n",
       "    <tr>\n",
       "      <th>55</th>\n",
       "      <td>56</td>\n",
       "      <td>1</td>\n",
       "    </tr>\n",
       "    <tr>\n",
       "      <th>63</th>\n",
       "      <td>64</td>\n",
       "      <td>1</td>\n",
       "    </tr>\n",
       "    <tr>\n",
       "      <th>85</th>\n",
       "      <td>86</td>\n",
       "      <td>1</td>\n",
       "    </tr>\n",
       "    <tr>\n",
       "      <th>129</th>\n",
       "      <td>130</td>\n",
       "      <td>1</td>\n",
       "    </tr>\n",
       "    <tr>\n",
       "      <th>164</th>\n",
       "      <td>165</td>\n",
       "      <td>1</td>\n",
       "    </tr>\n",
       "    <tr>\n",
       "      <th>...</th>\n",
       "      <td>...</td>\n",
       "      <td>...</td>\n",
       "    </tr>\n",
       "    <tr>\n",
       "      <th>1718</th>\n",
       "      <td>1719</td>\n",
       "      <td>1</td>\n",
       "    </tr>\n",
       "    <tr>\n",
       "      <th>1732</th>\n",
       "      <td>1733</td>\n",
       "      <td>1</td>\n",
       "    </tr>\n",
       "    <tr>\n",
       "      <th>1753</th>\n",
       "      <td>1754</td>\n",
       "      <td>1</td>\n",
       "    </tr>\n",
       "    <tr>\n",
       "      <th>1766</th>\n",
       "      <td>1767</td>\n",
       "      <td>1</td>\n",
       "    </tr>\n",
       "    <tr>\n",
       "      <th>1778</th>\n",
       "      <td>1779</td>\n",
       "      <td>1</td>\n",
       "    </tr>\n",
       "  </tbody>\n",
       "</table>\n",
       "<p>103 rows × 2 columns</p>\n",
       "</div>"
      ],
      "text/plain": [
       "        id  harassment\n",
       "55      56           1\n",
       "63      64           1\n",
       "85      86           1\n",
       "129    130           1\n",
       "164    165           1\n",
       "...    ...         ...\n",
       "1718  1719           1\n",
       "1732  1733           1\n",
       "1753  1754           1\n",
       "1766  1767           1\n",
       "1778  1779           1\n",
       "\n",
       "[103 rows x 2 columns]"
      ]
     },
     "execution_count": 80,
     "metadata": {},
     "output_type": "execute_result"
    }
   ],
   "source": [
    "df_aux[df_aux.harassment == 1]"
   ]
  },
  {
   "cell_type": "markdown",
   "metadata": {},
   "source": [
    "\n",
    "* Se solicita realizar **un solo** *submission* por grupo, para no perjudicar la nota de sus compañeros en el *ranking*. Además de ser claros con sus nombres de entrega para no asignarles de manera errónea su correspondiente nota.\n",
    "\n",
    "* **Si no realiza *submission* a Kaggle su nota en esta sección será de 0**.\n",
    "\n",
    "* **Si su *score* alcanzado es menor o igual al *benchmark* random que se encuentra en el *ranking*, su nota en esta sección será de 25**\n",
    "* Se solicita realizar **un solo** *submission* por grupo, para no perjudicar la nota de sus compañeros en el *ranking*. Además de ser claros con sus nombres de entrega para no asignarles de manera errónea su correspondiente nota.\n",
    "\n",
    "* **Si no realiza *submission* a Kaggle su nota en esta sección será de 0**.\n",
    "\n",
    "* **Si su *score* alcanzado es menor o igual al *benchmark* random que se encuentra en el *ranking*, su nota en esta sección será de 25**"
   ]
  },
  {
   "cell_type": "markdown",
   "metadata": {},
   "source": [
    "<a id=\"refs\"></a>\n",
    "## Referencias\n",
    "[1] https://scikit-learn.org/stable/modules/ensemble.html  \n",
    "[2] https://scikit-learn.org/stable/modules/tree.html  \n",
    "[3] http://scikit-learn.org/stable/modules/generated/sklearn.metrics.f1_score.html  \n",
    "[4] https://towardsdatascience.com/methods-for-dealing-with-imbalanced-data-5b761be45a18"
   ]
  }
 ],
 "metadata": {
  "kernelspec": {
   "display_name": "Python 3",
   "language": "python",
   "name": "python3"
  },
  "language_info": {
   "codemirror_mode": {
    "name": "ipython",
    "version": 3
   },
   "file_extension": ".py",
   "mimetype": "text/x-python",
   "name": "python",
   "nbconvert_exporter": "python",
   "pygments_lexer": "ipython3",
   "version": "3.6.10"
  }
 },
 "nbformat": 4,
 "nbformat_minor": 2
}
